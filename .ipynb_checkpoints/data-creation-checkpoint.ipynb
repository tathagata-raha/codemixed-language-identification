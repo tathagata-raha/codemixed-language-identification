{
 "cells": [
  {
   "cell_type": "code",
   "execution_count": 1,
   "id": "behind-russian",
   "metadata": {},
   "outputs": [],
   "source": [
    "import pandas as pd\n",
    "import ast"
   ]
  },
  {
   "cell_type": "code",
   "execution_count": 2,
   "id": "relative-tomorrow",
   "metadata": {},
   "outputs": [],
   "source": [
    "mal1 = pd.read_csv('/scratch/cm/malayalam_train.tsv', sep='\\t')\n",
    "mal2 = pd.read_csv('/scratch/cm/malayalam_dev.tsv', sep='\\t')\n",
    "mal3 = pd.read_csv('/scratch/cm/malayalam_test_results - malayalam_test_results.tsv', sep='\\t')"
   ]
  },
  {
   "cell_type": "code",
   "execution_count": 3,
   "id": "motivated-ecology",
   "metadata": {},
   "outputs": [],
   "source": [
    "df1 = mal1.append(mal2).append(mal3)"
   ]
  },
  {
   "cell_type": "code",
   "execution_count": 4,
   "id": "inclusive-majority",
   "metadata": {},
   "outputs": [],
   "source": [
    "df1 = df1[df1.category!='not-malayalam']\n",
    "df1 = df1[df1.category!='not-malayalam ']\n",
    "df1 = df1.drop(['id', 'category'], axis = 1)\n",
    "df1['lang'] = 4"
   ]
  },
  {
   "cell_type": "code",
   "execution_count": 5,
   "id": "union-baltimore",
   "metadata": {},
   "outputs": [],
   "source": [
    "tam1 = pd.read_csv('/scratch/cm/tamil_train.tsv', sep='\\t')\n",
    "tam2 = pd.read_csv('/scratch/cm/tamil_dev.tsv', sep='\\t')\n",
    "tam3 = pd.read_csv('/scratch/cm/tamil_test_answer - tamil_test_answer.tsv', sep='\\t')"
   ]
  },
  {
   "cell_type": "code",
   "execution_count": 6,
   "id": "documented-endorsement",
   "metadata": {},
   "outputs": [],
   "source": [
    "df2 = tam1.append(tam2).append(tam3)"
   ]
  },
  {
   "cell_type": "code",
   "execution_count": 7,
   "id": "efficient-springer",
   "metadata": {},
   "outputs": [],
   "source": [
    "df2 = df2[df2.category!='not-Tamil']\n",
    "df2 = df2[df2.category!='not-Tamil ']\n",
    "df2 = df2.drop(['id', 'category'], axis = 1)\n",
    "df2['lang'] = 3"
   ]
  },
  {
   "cell_type": "code",
   "execution_count": 8,
   "id": "million-divorce",
   "metadata": {},
   "outputs": [],
   "source": [
    "df3 = pd.read_json('/scratch/cm/hinglishNorm.json')"
   ]
  },
  {
   "cell_type": "code",
   "execution_count": 9,
   "id": "inside-cooperation",
   "metadata": {},
   "outputs": [],
   "source": [
    "df3.tags = df3.tags.apply(ast.literal_eval)"
   ]
  },
  {
   "cell_type": "code",
   "execution_count": 10,
   "id": "three-award",
   "metadata": {},
   "outputs": [],
   "source": [
    "def lgood(ls):\n",
    "    sm = sum([i == 'Looks Good' for i in ls])\n",
    "    return 1 if sm/len(ls) < 0.6 and len(ls) >= 4 else 0\n",
    "df3['codemix'] = df3.tags.apply(lgood)\n",
    "df3 = df3[df3['codemix'] == 1]"
   ]
  },
  {
   "cell_type": "code",
   "execution_count": 11,
   "id": "unlimited-allowance",
   "metadata": {},
   "outputs": [
    {
     "data": {
      "text/html": [
       "<div>\n",
       "<style scoped>\n",
       "    .dataframe tbody tr th:only-of-type {\n",
       "        vertical-align: middle;\n",
       "    }\n",
       "\n",
       "    .dataframe tbody tr th {\n",
       "        vertical-align: top;\n",
       "    }\n",
       "\n",
       "    .dataframe thead th {\n",
       "        text-align: right;\n",
       "    }\n",
       "</style>\n",
       "<table border=\"1\" class=\"dataframe\">\n",
       "  <thead>\n",
       "    <tr style=\"text-align: right;\">\n",
       "      <th></th>\n",
       "      <th>id</th>\n",
       "      <th>inputText</th>\n",
       "      <th>tags</th>\n",
       "      <th>normalizedText</th>\n",
       "      <th>codemix</th>\n",
       "    </tr>\n",
       "  </thead>\n",
       "  <tbody>\n",
       "    <tr>\n",
       "      <th>1</th>\n",
       "      <td>2</td>\n",
       "      <td>tarika hai bolne ka</td>\n",
       "      <td>[Hindi, Hindi, Hindi, Hindi]</td>\n",
       "      <td>tarika hai bolne ka</td>\n",
       "      <td>1</td>\n",
       "    </tr>\n",
       "    <tr>\n",
       "      <th>7</th>\n",
       "      <td>8</td>\n",
       "      <td>yaar jo bhi ho na mast ho tum</td>\n",
       "      <td>[Hindi, Hindi, Hindi, Hindi, Hindi, Hindi, Hin...</td>\n",
       "      <td>yaar jo bhee ho na mast ho tum</td>\n",
       "      <td>1</td>\n",
       "    </tr>\n",
       "    <tr>\n",
       "      <th>8</th>\n",
       "      <td>9</td>\n",
       "      <td>or jo ahae dekhlenge</td>\n",
       "      <td>[Hindi, Hindi, Hindi, Hindi]</td>\n",
       "      <td>aur jo he dekhalenge</td>\n",
       "      <td>1</td>\n",
       "    </tr>\n",
       "    <tr>\n",
       "      <th>11</th>\n",
       "      <td>12</td>\n",
       "      <td>koi na baat kar lo</td>\n",
       "      <td>[Hindi, Hindi, Hindi, Hindi, Hindi]</td>\n",
       "      <td>koee na baat kar lo</td>\n",
       "      <td>1</td>\n",
       "    </tr>\n",
       "    <tr>\n",
       "      <th>12</th>\n",
       "      <td>13</td>\n",
       "      <td>ab gate k through recruitment hoga</td>\n",
       "      <td>[Hindi, Acronym, Unrecognizable or other langu...</td>\n",
       "      <td>ab graduate aptitude test in engineering ke th...</td>\n",
       "      <td>1</td>\n",
       "    </tr>\n",
       "    <tr>\n",
       "      <th>...</th>\n",
       "      <td>...</td>\n",
       "      <td>...</td>\n",
       "      <td>...</td>\n",
       "      <td>...</td>\n",
       "      <td>...</td>\n",
       "    </tr>\n",
       "    <tr>\n",
       "      <th>13482</th>\n",
       "      <td>13483</td>\n",
       "      <td>kisi se mi phone maang le</td>\n",
       "      <td>[Hindi, Hindi, Hindi, Looks Good, Hindi, Hindi]</td>\n",
       "      <td>kisee se bhee phone maang le</td>\n",
       "      <td>1</td>\n",
       "    </tr>\n",
       "    <tr>\n",
       "      <th>13483</th>\n",
       "      <td>13484</td>\n",
       "      <td>koi nhi tu v kr lena post graduation</td>\n",
       "      <td>[Hindi, Hindi, Hindi, Hindi, Hindi, Hindi, Loo...</td>\n",
       "      <td>koee nahin too bhee kar lena post graduation</td>\n",
       "      <td>1</td>\n",
       "    </tr>\n",
       "    <tr>\n",
       "      <th>13485</th>\n",
       "      <td>13486</td>\n",
       "      <td>th kya kr liya</td>\n",
       "      <td>[Hindi, Hindi, Hindi, Hindi]</td>\n",
       "      <td>tha kya kar liya</td>\n",
       "      <td>1</td>\n",
       "    </tr>\n",
       "    <tr>\n",
       "      <th>13488</th>\n",
       "      <td>13489</td>\n",
       "      <td>ye kya hota h</td>\n",
       "      <td>[Hindi, Hindi, Hindi, Hindi]</td>\n",
       "      <td>ye kya hota hai</td>\n",
       "      <td>1</td>\n",
       "    </tr>\n",
       "    <tr>\n",
       "      <th>13493</th>\n",
       "      <td>13494</td>\n",
       "      <td>har koi insaan hi hai</td>\n",
       "      <td>[Hindi, Hindi, Hindi, Hindi, Hindi]</td>\n",
       "      <td>har koee insaan hee hai</td>\n",
       "      <td>1</td>\n",
       "    </tr>\n",
       "  </tbody>\n",
       "</table>\n",
       "<p>5691 rows × 5 columns</p>\n",
       "</div>"
      ],
      "text/plain": [
       "          id                             inputText  \\\n",
       "1          2                   tarika hai bolne ka   \n",
       "7          8         yaar jo bhi ho na mast ho tum   \n",
       "8          9                  or jo ahae dekhlenge   \n",
       "11        12                    koi na baat kar lo   \n",
       "12        13    ab gate k through recruitment hoga   \n",
       "...      ...                                   ...   \n",
       "13482  13483             kisi se mi phone maang le   \n",
       "13483  13484  koi nhi tu v kr lena post graduation   \n",
       "13485  13486                        th kya kr liya   \n",
       "13488  13489                         ye kya hota h   \n",
       "13493  13494                 har koi insaan hi hai   \n",
       "\n",
       "                                                    tags  \\\n",
       "1                           [Hindi, Hindi, Hindi, Hindi]   \n",
       "7      [Hindi, Hindi, Hindi, Hindi, Hindi, Hindi, Hin...   \n",
       "8                           [Hindi, Hindi, Hindi, Hindi]   \n",
       "11                   [Hindi, Hindi, Hindi, Hindi, Hindi]   \n",
       "12     [Hindi, Acronym, Unrecognizable or other langu...   \n",
       "...                                                  ...   \n",
       "13482    [Hindi, Hindi, Hindi, Looks Good, Hindi, Hindi]   \n",
       "13483  [Hindi, Hindi, Hindi, Hindi, Hindi, Hindi, Loo...   \n",
       "13485                       [Hindi, Hindi, Hindi, Hindi]   \n",
       "13488                       [Hindi, Hindi, Hindi, Hindi]   \n",
       "13493                [Hindi, Hindi, Hindi, Hindi, Hindi]   \n",
       "\n",
       "                                          normalizedText  codemix  \n",
       "1                                    tarika hai bolne ka        1  \n",
       "7                         yaar jo bhee ho na mast ho tum        1  \n",
       "8                                   aur jo he dekhalenge        1  \n",
       "11                                   koee na baat kar lo        1  \n",
       "12     ab graduate aptitude test in engineering ke th...        1  \n",
       "...                                                  ...      ...  \n",
       "13482                       kisee se bhee phone maang le        1  \n",
       "13483       koee nahin too bhee kar lena post graduation        1  \n",
       "13485                                   tha kya kar liya        1  \n",
       "13488                                    ye kya hota hai        1  \n",
       "13493                            har koee insaan hee hai        1  \n",
       "\n",
       "[5691 rows x 5 columns]"
      ]
     },
     "execution_count": 11,
     "metadata": {},
     "output_type": "execute_result"
    }
   ],
   "source": [
    "df3"
   ]
  },
  {
   "cell_type": "code",
   "execution_count": 12,
   "id": "hazardous-glucose",
   "metadata": {},
   "outputs": [],
   "source": [
    "df3['text'] = df3['normalizedText']\n",
    "df3['lang'] = 2\n",
    "df3 = df3.drop(['tags', 'normalizedText', 'codemix', 'inputText', 'id'], axis = 1)\n"
   ]
  },
  {
   "cell_type": "code",
   "execution_count": 13,
   "id": "missing-shuttle",
   "metadata": {},
   "outputs": [],
   "source": [
    "with open('/scratch/cm/all_wiki_sents.txt', 'r') as f:\n",
    "    st =  f.read()\n",
    "    sents = st.split('\\n')\n",
    "    df4 = pd.DataFrame(sents[:-1])"
   ]
  },
  {
   "cell_type": "code",
   "execution_count": 14,
   "id": "harmful-madness",
   "metadata": {},
   "outputs": [],
   "source": [
    "df4['text'] = df4[0]\n",
    "df4['lang'] = 1\n",
    "df4 = df4.drop([0], axis = 1)\n"
   ]
  },
  {
   "cell_type": "code",
   "execution_count": 15,
   "id": "mathematical-cookbook",
   "metadata": {},
   "outputs": [],
   "source": [
    "df1.text = df1.text.str.lower()\n",
    "df2.text = df2.text.str.lower()\n",
    "df3.text = df3.text.str.lower()\n",
    "df4.text = df4.text.str.lower()"
   ]
  },
  {
   "cell_type": "code",
   "execution_count": 16,
   "id": "overhead-insight",
   "metadata": {},
   "outputs": [],
   "source": [
    "mn = 5691\n",
    "df1 = df1.sample(mn)\n",
    "df2 = df2.sample(mn)\n",
    "df3 = df3.sample(mn)\n",
    "df4 = df4.sample(mn)"
   ]
  },
  {
   "cell_type": "code",
   "execution_count": 17,
   "id": "involved-script",
   "metadata": {},
   "outputs": [],
   "source": [
    "df1.reset_index(drop=True, inplace=True)\n",
    "df2.reset_index(drop=True, inplace=True)\n",
    "df3.reset_index(drop=True, inplace=True)\n",
    "df4.reset_index(drop=True, inplace=True)"
   ]
  },
  {
   "cell_type": "code",
   "execution_count": 18,
   "id": "apparent-exercise",
   "metadata": {},
   "outputs": [],
   "source": [
    "df = df1.append(df2).append(df3).append(df4)"
   ]
  },
  {
   "cell_type": "code",
   "execution_count": 19,
   "id": "double-decimal",
   "metadata": {},
   "outputs": [],
   "source": [
    "df = df.sample(len(df))\n",
    "df.reset_index(drop=True, inplace=True)"
   ]
  },
  {
   "cell_type": "code",
   "execution_count": 20,
   "id": "graphic-mission",
   "metadata": {},
   "outputs": [],
   "source": [
    "from sklearn.model_selection import train_test_split as tts\n",
    "train, valid = tts(df, test_size = 0.2, random_state = 42, stratify=df.lang)"
   ]
  },
  {
   "cell_type": "code",
   "execution_count": 21,
   "id": "postal-accuracy",
   "metadata": {},
   "outputs": [
    {
     "data": {
      "text/html": [
       "<div>\n",
       "<style scoped>\n",
       "    .dataframe tbody tr th:only-of-type {\n",
       "        vertical-align: middle;\n",
       "    }\n",
       "\n",
       "    .dataframe tbody tr th {\n",
       "        vertical-align: top;\n",
       "    }\n",
       "\n",
       "    .dataframe thead th {\n",
       "        text-align: right;\n",
       "    }\n",
       "</style>\n",
       "<table border=\"1\" class=\"dataframe\">\n",
       "  <thead>\n",
       "    <tr style=\"text-align: right;\">\n",
       "      <th></th>\n",
       "      <th>text</th>\n",
       "      <th>lang</th>\n",
       "    </tr>\n",
       "  </thead>\n",
       "  <tbody>\n",
       "    <tr>\n",
       "      <th>12175</th>\n",
       "      <td>it also contains punishment for transgression</td>\n",
       "      <td>1</td>\n",
       "    </tr>\n",
       "    <tr>\n",
       "      <th>14738</th>\n",
       "      <td>evidence for lilith being a goddess rather tha...</td>\n",
       "      <td>1</td>\n",
       "    </tr>\n",
       "    <tr>\n",
       "      <th>3654</th>\n",
       "      <td>video va unlyk panravangellam avarooda hardwo...</td>\n",
       "      <td>3</td>\n",
       "    </tr>\n",
       "    <tr>\n",
       "      <th>22287</th>\n",
       "      <td>ryan died in toronto at age 89</td>\n",
       "      <td>1</td>\n",
       "    </tr>\n",
       "    <tr>\n",
       "      <th>7882</th>\n",
       "      <td>nte ponno oru rakshayum illatta makinggg........</td>\n",
       "      <td>4</td>\n",
       "    </tr>\n",
       "    <tr>\n",
       "      <th>...</th>\n",
       "      <td>...</td>\n",
       "      <td>...</td>\n",
       "    </tr>\n",
       "    <tr>\n",
       "      <th>14909</th>\n",
       "      <td>vere level ... onnum parayan ella....</td>\n",
       "      <td>4</td>\n",
       "    </tr>\n",
       "    <tr>\n",
       "      <th>10606</th>\n",
       "      <td>a miami</td>\n",
       "      <td>1</td>\n",
       "    </tr>\n",
       "    <tr>\n",
       "      <th>12798</th>\n",
       "      <td>aapako twitter hack karana aata hai kya</td>\n",
       "      <td>2</td>\n",
       "    </tr>\n",
       "    <tr>\n",
       "      <th>3310</th>\n",
       "      <td>mammooka fans vedipooram .. vanne .. adi like...</td>\n",
       "      <td>4</td>\n",
       "    </tr>\n",
       "    <tr>\n",
       "      <th>16154</th>\n",
       "      <td>bhaee tere saath time pass nahin karoonga too ...</td>\n",
       "      <td>2</td>\n",
       "    </tr>\n",
       "  </tbody>\n",
       "</table>\n",
       "<p>4553 rows × 2 columns</p>\n",
       "</div>"
      ],
      "text/plain": [
       "                                                    text  lang\n",
       "12175      it also contains punishment for transgression     1\n",
       "14738  evidence for lilith being a goddess rather tha...     1\n",
       "3654    video va unlyk panravangellam avarooda hardwo...     3\n",
       "22287                    ryan died in toronto at age 89      1\n",
       "7882    nte ponno oru rakshayum illatta makinggg........     4\n",
       "...                                                  ...   ...\n",
       "14909              vere level ... onnum parayan ella....     4\n",
       "10606                                            a miami     1\n",
       "12798            aapako twitter hack karana aata hai kya     2\n",
       "3310    mammooka fans vedipooram .. vanne .. adi like...     4\n",
       "16154  bhaee tere saath time pass nahin karoonga too ...     2\n",
       "\n",
       "[4553 rows x 2 columns]"
      ]
     },
     "execution_count": 21,
     "metadata": {},
     "output_type": "execute_result"
    }
   ],
   "source": [
    "valid"
   ]
  },
  {
   "cell_type": "code",
   "execution_count": 22,
   "id": "sized-sample",
   "metadata": {},
   "outputs": [],
   "source": [
    "train.to_csv('train.csv')\n",
    "valid.to_csv('valid.csv')"
   ]
  },
  {
   "cell_type": "code",
   "execution_count": 23,
   "id": "ordinary-white",
   "metadata": {},
   "outputs": [],
   "source": [
    "\n",
    "def make_vocab(count, min_freq=3, max_vocab=60000, special_toks=None):\n",
    "    \"Create a vocab of `max_vocab` size from `Counter` `count` with items present more than `min_freq`\"\n",
    "    vocab = [o for o,c in count.most_common(max_vocab) if c >= min_freq]\n",
    "    special_toks = ifnone(special_toks, 'n')\n",
    "    for o in reversed(special_toks): #Make sure all special tokens are in the vocab\n",
    "        if o in vocab: vocab.remove(o)\n",
    "        vocab.insert(0, o)\n",
    "    vocab = vocab[:max_vocab]\n",
    "    return vocab + [f'xxfake' for i in range(0, 8-len(vocab)%8)]\n",
    "def ifnone(a,b):\n",
    "    \"`a` if `a` is not None, otherwise `b`.\"\n",
    "    return b if a is None else a"
   ]
  },
  {
   "cell_type": "code",
   "execution_count": 24,
   "id": "dependent-virus",
   "metadata": {},
   "outputs": [],
   "source": [
    "vocab = list()\n",
    "for i in list(df.text.values):\n",
    "    tmp = []\n",
    "    for j in i.split(' '):\n",
    "        if len(j)> 0:\n",
    "            tmp.append(j)\n",
    "    vocab.append(tmp)"
   ]
  },
  {
   "cell_type": "code",
   "execution_count": 25,
   "id": "median-roller",
   "metadata": {},
   "outputs": [],
   "source": [
    "import pickle\n",
    "with open('vocab.pkl', 'wb') as f:\n",
    "    pickle.dump(vocab, f)"
   ]
  },
  {
   "cell_type": "code",
   "execution_count": 26,
   "id": "honest-sculpture",
   "metadata": {},
   "outputs": [
    {
     "data": {
      "text/plain": [
       "['kattaa', 'waiting', 'by', 'a', 'lalettan', 'fan#ikkaa', 'vere', 'level']"
      ]
     },
     "execution_count": 26,
     "metadata": {},
     "output_type": "execute_result"
    }
   ],
   "source": [
    "vocab[3]"
   ]
  },
  {
   "cell_type": "code",
   "execution_count": null,
   "id": "loose-scope",
   "metadata": {},
   "outputs": [],
   "source": []
  },
  {
   "cell_type": "code",
   "execution_count": 30,
   "id": "connected-charge",
   "metadata": {},
   "outputs": [
    {
     "name": "stderr",
     "output_type": "stream",
     "text": [
      "<ipython-input-30-a3f33f21fc13>:1: SettingWithCopyWarning: \n",
      "A value is trying to be set on a copy of a slice from a DataFrame.\n",
      "Try using .loc[row_indexer,col_indexer] = value instead\n",
      "\n",
      "See the caveats in the documentation: https://pandas.pydata.org/pandas-docs/stable/user_guide/indexing.html#returning-a-view-versus-a-copy\n",
      "  train['is_valid'] = 0\n",
      "<ipython-input-30-a3f33f21fc13>:2: SettingWithCopyWarning: \n",
      "A value is trying to be set on a copy of a slice from a DataFrame.\n",
      "Try using .loc[row_indexer,col_indexer] = value instead\n",
      "\n",
      "See the caveats in the documentation: https://pandas.pydata.org/pandas-docs/stable/user_guide/indexing.html#returning-a-view-versus-a-copy\n",
      "  valid['is_valid'] = 1\n"
     ]
    }
   ],
   "source": [
    "train['is_valid'] = 0\n",
    "valid['is_valid'] = 1\n",
    "train = train.append(valid)\n",
    "train.to_csv('total.csv')"
   ]
  },
  {
   "cell_type": "code",
   "execution_count": 31,
   "id": "fatal-blowing",
   "metadata": {},
   "outputs": [
    {
     "data": {
      "text/html": [
       "<div>\n",
       "<style scoped>\n",
       "    .dataframe tbody tr th:only-of-type {\n",
       "        vertical-align: middle;\n",
       "    }\n",
       "\n",
       "    .dataframe tbody tr th {\n",
       "        vertical-align: top;\n",
       "    }\n",
       "\n",
       "    .dataframe thead th {\n",
       "        text-align: right;\n",
       "    }\n",
       "</style>\n",
       "<table border=\"1\" class=\"dataframe\">\n",
       "  <thead>\n",
       "    <tr style=\"text-align: right;\">\n",
       "      <th></th>\n",
       "      <th>text</th>\n",
       "      <th>lang</th>\n",
       "      <th>is_valid</th>\n",
       "    </tr>\n",
       "  </thead>\n",
       "  <tbody>\n",
       "    <tr>\n",
       "      <th>19306</th>\n",
       "      <td>1.01 prithviraj anenn manasilayavar like adik</td>\n",
       "      <td>4</td>\n",
       "      <td>0</td>\n",
       "    </tr>\n",
       "    <tr>\n",
       "      <th>13031</th>\n",
       "      <td>rajani sir gr8 man  agree hit like</td>\n",
       "      <td>3</td>\n",
       "      <td>0</td>\n",
       "    </tr>\n",
       "    <tr>\n",
       "      <th>3135</th>\n",
       "      <td>it also features motion blur unlike its predec...</td>\n",
       "      <td>1</td>\n",
       "      <td>0</td>\n",
       "    </tr>\n",
       "    <tr>\n",
       "      <th>1767</th>\n",
       "      <td>petta vs viswasam  petta like viswasam comment</td>\n",
       "      <td>3</td>\n",
       "      <td>0</td>\n",
       "    </tr>\n",
       "    <tr>\n",
       "      <th>7086</th>\n",
       "      <td>but even then yaar real identity toh connect k...</td>\n",
       "      <td>2</td>\n",
       "      <td>0</td>\n",
       "    </tr>\n",
       "    <tr>\n",
       "      <th>...</th>\n",
       "      <td>...</td>\n",
       "      <td>...</td>\n",
       "      <td>...</td>\n",
       "    </tr>\n",
       "    <tr>\n",
       "      <th>14909</th>\n",
       "      <td>vere level ... onnum parayan ella....</td>\n",
       "      <td>4</td>\n",
       "      <td>1</td>\n",
       "    </tr>\n",
       "    <tr>\n",
       "      <th>10606</th>\n",
       "      <td>a miami</td>\n",
       "      <td>1</td>\n",
       "      <td>1</td>\n",
       "    </tr>\n",
       "    <tr>\n",
       "      <th>12798</th>\n",
       "      <td>aapako twitter hack karana aata hai kya</td>\n",
       "      <td>2</td>\n",
       "      <td>1</td>\n",
       "    </tr>\n",
       "    <tr>\n",
       "      <th>3310</th>\n",
       "      <td>mammooka fans vedipooram .. vanne .. adi like...</td>\n",
       "      <td>4</td>\n",
       "      <td>1</td>\n",
       "    </tr>\n",
       "    <tr>\n",
       "      <th>16154</th>\n",
       "      <td>bhaee tere saath time pass nahin karoonga too ...</td>\n",
       "      <td>2</td>\n",
       "      <td>1</td>\n",
       "    </tr>\n",
       "  </tbody>\n",
       "</table>\n",
       "<p>22764 rows × 3 columns</p>\n",
       "</div>"
      ],
      "text/plain": [
       "                                                    text  lang  is_valid\n",
       "19306      1.01 prithviraj anenn manasilayavar like adik     4         0\n",
       "13031                 rajani sir gr8 man  agree hit like     3         0\n",
       "3135   it also features motion blur unlike its predec...     1         0\n",
       "1767      petta vs viswasam  petta like viswasam comment     3         0\n",
       "7086   but even then yaar real identity toh connect k...     2         0\n",
       "...                                                  ...   ...       ...\n",
       "14909              vere level ... onnum parayan ella....     4         1\n",
       "10606                                            a miami     1         1\n",
       "12798            aapako twitter hack karana aata hai kya     2         1\n",
       "3310    mammooka fans vedipooram .. vanne .. adi like...     4         1\n",
       "16154  bhaee tere saath time pass nahin karoonga too ...     2         1\n",
       "\n",
       "[22764 rows x 3 columns]"
      ]
     },
     "execution_count": 31,
     "metadata": {},
     "output_type": "execute_result"
    }
   ],
   "source": [
    "train"
   ]
  },
  {
   "cell_type": "code",
   "execution_count": null,
   "id": "brown-upgrade",
   "metadata": {},
   "outputs": [],
   "source": []
  }
 ],
 "metadata": {
  "kernelspec": {
   "display_name": "Python 3 (ipykernel)",
   "language": "python",
   "name": "python3"
  },
  "language_info": {
   "codemirror_mode": {
    "name": "ipython",
    "version": 3
   },
   "file_extension": ".py",
   "mimetype": "text/x-python",
   "name": "python",
   "nbconvert_exporter": "python",
   "pygments_lexer": "ipython3",
   "version": "3.7.11"
  }
 },
 "nbformat": 4,
 "nbformat_minor": 5
}
