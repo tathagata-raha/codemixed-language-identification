{
 "cells": [
  {
   "cell_type": "code",
   "execution_count": 321,
   "id": "single-basics",
   "metadata": {},
   "outputs": [],
   "source": [
    "import pandas as pd\n",
    "import ast"
   ]
  },
  {
   "cell_type": "code",
   "execution_count": 322,
   "id": "emerging-mason",
   "metadata": {},
   "outputs": [],
   "source": [
    "mal1 = pd.read_csv('/scratch/cm/malayalam_train.tsv', sep='\\t')\n",
    "mal2 = pd.read_csv('/scratch/cm/malayalam_dev.tsv', sep='\\t')\n",
    "mal3 = pd.read_csv('/scratch/cm/malayalam_test_results - malayalam_test_results.tsv', sep='\\t')"
   ]
  },
  {
   "cell_type": "code",
   "execution_count": 323,
   "id": "royal-festival",
   "metadata": {},
   "outputs": [],
   "source": [
    "df1 = mal1.append(mal2).append(mal3)"
   ]
  },
  {
   "cell_type": "code",
   "execution_count": 324,
   "id": "temporal-easter",
   "metadata": {},
   "outputs": [],
   "source": [
    "df1 = df1[df1.category!='not-malayalam']\n",
    "df1 = df1[df1.category!='not-malayalam ']\n",
    "df1 = df1.drop(['id', 'category'], axis = 1)\n",
    "df1['lang'] = 4"
   ]
  },
  {
   "cell_type": "code",
   "execution_count": 325,
   "id": "miniature-mayor",
   "metadata": {},
   "outputs": [],
   "source": [
    "tam1 = pd.read_csv('/scratch/cm/tamil_train.tsv', sep='\\t')\n",
    "tam2 = pd.read_csv('/scratch/cm/tamil_dev.tsv', sep='\\t')\n",
    "tam3 = pd.read_csv('/scratch/cm/tamil_test_answer - tamil_test_answer.tsv', sep='\\t')"
   ]
  },
  {
   "cell_type": "code",
   "execution_count": 326,
   "id": "ignored-completion",
   "metadata": {},
   "outputs": [],
   "source": [
    "df2 = tam1.append(tam2).append(tam3)"
   ]
  },
  {
   "cell_type": "code",
   "execution_count": 327,
   "id": "protected-burton",
   "metadata": {},
   "outputs": [],
   "source": [
    "df2 = df2[df2.category!='not-Tamil']\n",
    "df2 = df2[df2.category!='not-Tamil ']\n",
    "df2 = df2.drop(['id', 'category'], axis = 1)\n",
    "df2['lang'] = 3"
   ]
  },
  {
   "cell_type": "code",
   "execution_count": 328,
   "id": "subsequent-powell",
   "metadata": {},
   "outputs": [],
   "source": [
    "df3 = pd.read_json('/scratch/cm/hinglishNorm.json')"
   ]
  },
  {
   "cell_type": "code",
   "execution_count": 329,
   "id": "respiratory-franklin",
   "metadata": {},
   "outputs": [],
   "source": [
    "df3.tags = df3.tags.apply(ast.literal_eval)"
   ]
  },
  {
   "cell_type": "code",
   "execution_count": 330,
   "id": "organic-quantum",
   "metadata": {},
   "outputs": [],
   "source": [
    "def lgood(ls):\n",
    "    sm = sum([i == 'Looks Good' for i in ls])\n",
    "    return 1 if sm/len(ls) < 0.6 and len(ls) >= 4 else 0\n",
    "df3['codemix'] = df3.tags.apply(lgood)\n",
    "df3 = df3[df3['codemix'] == 1]"
   ]
  },
  {
   "cell_type": "code",
   "execution_count": 331,
   "id": "alert-saskatchewan",
   "metadata": {},
   "outputs": [
    {
     "data": {
      "text/html": [
       "<div>\n",
       "<style scoped>\n",
       "    .dataframe tbody tr th:only-of-type {\n",
       "        vertical-align: middle;\n",
       "    }\n",
       "\n",
       "    .dataframe tbody tr th {\n",
       "        vertical-align: top;\n",
       "    }\n",
       "\n",
       "    .dataframe thead th {\n",
       "        text-align: right;\n",
       "    }\n",
       "</style>\n",
       "<table border=\"1\" class=\"dataframe\">\n",
       "  <thead>\n",
       "    <tr style=\"text-align: right;\">\n",
       "      <th></th>\n",
       "      <th>id</th>\n",
       "      <th>inputText</th>\n",
       "      <th>tags</th>\n",
       "      <th>normalizedText</th>\n",
       "      <th>codemix</th>\n",
       "    </tr>\n",
       "  </thead>\n",
       "  <tbody>\n",
       "    <tr>\n",
       "      <th>1</th>\n",
       "      <td>2</td>\n",
       "      <td>tarika hai bolne ka</td>\n",
       "      <td>[Hindi, Hindi, Hindi, Hindi]</td>\n",
       "      <td>tarika hai bolne ka</td>\n",
       "      <td>1</td>\n",
       "    </tr>\n",
       "    <tr>\n",
       "      <th>7</th>\n",
       "      <td>8</td>\n",
       "      <td>yaar jo bhi ho na mast ho tum</td>\n",
       "      <td>[Hindi, Hindi, Hindi, Hindi, Hindi, Hindi, Hin...</td>\n",
       "      <td>yaar jo bhee ho na mast ho tum</td>\n",
       "      <td>1</td>\n",
       "    </tr>\n",
       "    <tr>\n",
       "      <th>8</th>\n",
       "      <td>9</td>\n",
       "      <td>or jo ahae dekhlenge</td>\n",
       "      <td>[Hindi, Hindi, Hindi, Hindi]</td>\n",
       "      <td>aur jo he dekhalenge</td>\n",
       "      <td>1</td>\n",
       "    </tr>\n",
       "    <tr>\n",
       "      <th>11</th>\n",
       "      <td>12</td>\n",
       "      <td>koi na baat kar lo</td>\n",
       "      <td>[Hindi, Hindi, Hindi, Hindi, Hindi]</td>\n",
       "      <td>koee na baat kar lo</td>\n",
       "      <td>1</td>\n",
       "    </tr>\n",
       "    <tr>\n",
       "      <th>12</th>\n",
       "      <td>13</td>\n",
       "      <td>ab gate k through recruitment hoga</td>\n",
       "      <td>[Hindi, Acronym, Unrecognizable or other langu...</td>\n",
       "      <td>ab graduate aptitude test in engineering ke th...</td>\n",
       "      <td>1</td>\n",
       "    </tr>\n",
       "    <tr>\n",
       "      <th>...</th>\n",
       "      <td>...</td>\n",
       "      <td>...</td>\n",
       "      <td>...</td>\n",
       "      <td>...</td>\n",
       "      <td>...</td>\n",
       "    </tr>\n",
       "    <tr>\n",
       "      <th>13482</th>\n",
       "      <td>13483</td>\n",
       "      <td>kisi se mi phone maang le</td>\n",
       "      <td>[Hindi, Hindi, Hindi, Looks Good, Hindi, Hindi]</td>\n",
       "      <td>kisee se bhee phone maang le</td>\n",
       "      <td>1</td>\n",
       "    </tr>\n",
       "    <tr>\n",
       "      <th>13483</th>\n",
       "      <td>13484</td>\n",
       "      <td>koi nhi tu v kr lena post graduation</td>\n",
       "      <td>[Hindi, Hindi, Hindi, Hindi, Hindi, Hindi, Loo...</td>\n",
       "      <td>koee nahin too bhee kar lena post graduation</td>\n",
       "      <td>1</td>\n",
       "    </tr>\n",
       "    <tr>\n",
       "      <th>13485</th>\n",
       "      <td>13486</td>\n",
       "      <td>th kya kr liya</td>\n",
       "      <td>[Hindi, Hindi, Hindi, Hindi]</td>\n",
       "      <td>tha kya kar liya</td>\n",
       "      <td>1</td>\n",
       "    </tr>\n",
       "    <tr>\n",
       "      <th>13488</th>\n",
       "      <td>13489</td>\n",
       "      <td>ye kya hota h</td>\n",
       "      <td>[Hindi, Hindi, Hindi, Hindi]</td>\n",
       "      <td>ye kya hota hai</td>\n",
       "      <td>1</td>\n",
       "    </tr>\n",
       "    <tr>\n",
       "      <th>13493</th>\n",
       "      <td>13494</td>\n",
       "      <td>har koi insaan hi hai</td>\n",
       "      <td>[Hindi, Hindi, Hindi, Hindi, Hindi]</td>\n",
       "      <td>har koee insaan hee hai</td>\n",
       "      <td>1</td>\n",
       "    </tr>\n",
       "  </tbody>\n",
       "</table>\n",
       "<p>5691 rows × 5 columns</p>\n",
       "</div>"
      ],
      "text/plain": [
       "          id                             inputText  \\\n",
       "1          2                   tarika hai bolne ka   \n",
       "7          8         yaar jo bhi ho na mast ho tum   \n",
       "8          9                  or jo ahae dekhlenge   \n",
       "11        12                    koi na baat kar lo   \n",
       "12        13    ab gate k through recruitment hoga   \n",
       "...      ...                                   ...   \n",
       "13482  13483             kisi se mi phone maang le   \n",
       "13483  13484  koi nhi tu v kr lena post graduation   \n",
       "13485  13486                        th kya kr liya   \n",
       "13488  13489                         ye kya hota h   \n",
       "13493  13494                 har koi insaan hi hai   \n",
       "\n",
       "                                                    tags  \\\n",
       "1                           [Hindi, Hindi, Hindi, Hindi]   \n",
       "7      [Hindi, Hindi, Hindi, Hindi, Hindi, Hindi, Hin...   \n",
       "8                           [Hindi, Hindi, Hindi, Hindi]   \n",
       "11                   [Hindi, Hindi, Hindi, Hindi, Hindi]   \n",
       "12     [Hindi, Acronym, Unrecognizable or other langu...   \n",
       "...                                                  ...   \n",
       "13482    [Hindi, Hindi, Hindi, Looks Good, Hindi, Hindi]   \n",
       "13483  [Hindi, Hindi, Hindi, Hindi, Hindi, Hindi, Loo...   \n",
       "13485                       [Hindi, Hindi, Hindi, Hindi]   \n",
       "13488                       [Hindi, Hindi, Hindi, Hindi]   \n",
       "13493                [Hindi, Hindi, Hindi, Hindi, Hindi]   \n",
       "\n",
       "                                          normalizedText  codemix  \n",
       "1                                    tarika hai bolne ka        1  \n",
       "7                         yaar jo bhee ho na mast ho tum        1  \n",
       "8                                   aur jo he dekhalenge        1  \n",
       "11                                   koee na baat kar lo        1  \n",
       "12     ab graduate aptitude test in engineering ke th...        1  \n",
       "...                                                  ...      ...  \n",
       "13482                       kisee se bhee phone maang le        1  \n",
       "13483       koee nahin too bhee kar lena post graduation        1  \n",
       "13485                                   tha kya kar liya        1  \n",
       "13488                                    ye kya hota hai        1  \n",
       "13493                            har koee insaan hee hai        1  \n",
       "\n",
       "[5691 rows x 5 columns]"
      ]
     },
     "execution_count": 331,
     "metadata": {},
     "output_type": "execute_result"
    }
   ],
   "source": [
    "df3"
   ]
  },
  {
   "cell_type": "code",
   "execution_count": 332,
   "id": "innocent-fleet",
   "metadata": {},
   "outputs": [],
   "source": [
    "df3['text'] = df3['normalizedText']\n",
    "df3['lang'] = 2\n",
    "df3 = df3.drop(['tags', 'normalizedText', 'codemix', 'inputText', 'id'], axis = 1)\n"
   ]
  },
  {
   "cell_type": "code",
   "execution_count": 333,
   "id": "noble-entrance",
   "metadata": {},
   "outputs": [],
   "source": [
    "with open('/scratch/cm/all_wiki_sents.txt', 'r') as f:\n",
    "    st =  f.read()\n",
    "    sents = st.split('\\n')\n",
    "    df4 = pd.DataFrame(sents[:-1])"
   ]
  },
  {
   "cell_type": "code",
   "execution_count": 334,
   "id": "incorporate-heater",
   "metadata": {},
   "outputs": [],
   "source": [
    "df4['text'] = df4[0]\n",
    "df4['lang'] = 1\n",
    "df4 = df4.drop([0], axis = 1)\n"
   ]
  },
  {
   "cell_type": "code",
   "execution_count": 335,
   "id": "cooperative-journalist",
   "metadata": {},
   "outputs": [],
   "source": [
    "df1.text = df1.text.str.lower()\n",
    "df2.text = df2.text.str.lower()\n",
    "df3.text = df3.text.str.lower()\n",
    "df4.text = df4.text.str.lower()"
   ]
  },
  {
   "cell_type": "code",
   "execution_count": 336,
   "id": "streaming-kelly",
   "metadata": {},
   "outputs": [],
   "source": [
    "mn = 5691\n",
    "df1 = df1.sample(mn)\n",
    "df2 = df2.sample(mn)\n",
    "df3 = df3.sample(mn)\n",
    "df4 = df4.sample(mn)"
   ]
  },
  {
   "cell_type": "code",
   "execution_count": 337,
   "id": "sought-venture",
   "metadata": {},
   "outputs": [],
   "source": [
    "df1.reset_index(drop=True, inplace=True)\n",
    "df2.reset_index(drop=True, inplace=True)\n",
    "df3.reset_index(drop=True, inplace=True)\n",
    "df4.reset_index(drop=True, inplace=True)"
   ]
  },
  {
   "cell_type": "code",
   "execution_count": 345,
   "id": "hearing-accent",
   "metadata": {},
   "outputs": [],
   "source": [
    "df = df1.append(df2).append(df3).append(df4)"
   ]
  },
  {
   "cell_type": "code",
   "execution_count": 346,
   "id": "electronic-jefferson",
   "metadata": {},
   "outputs": [],
   "source": [
    "df = df.sample(len(df))\n",
    "df.reset_index(drop=True, inplace=True)"
   ]
  },
  {
   "cell_type": "code",
   "execution_count": 349,
   "id": "paperback-sullivan",
   "metadata": {},
   "outputs": [],
   "source": [
    "from sklearn.model_selection import train_test_split as tts\n",
    "train, valid = tts(df, test_size = 0.2, random_state = 42, stratify=df.lang)"
   ]
  },
  {
   "cell_type": "code",
   "execution_count": 351,
   "id": "copyrighted-moderator",
   "metadata": {},
   "outputs": [
    {
     "data": {
      "text/html": [
       "<div>\n",
       "<style scoped>\n",
       "    .dataframe tbody tr th:only-of-type {\n",
       "        vertical-align: middle;\n",
       "    }\n",
       "\n",
       "    .dataframe tbody tr th {\n",
       "        vertical-align: top;\n",
       "    }\n",
       "\n",
       "    .dataframe thead th {\n",
       "        text-align: right;\n",
       "    }\n",
       "</style>\n",
       "<table border=\"1\" class=\"dataframe\">\n",
       "  <thead>\n",
       "    <tr style=\"text-align: right;\">\n",
       "      <th></th>\n",
       "      <th>text</th>\n",
       "      <th>lang</th>\n",
       "    </tr>\n",
       "  </thead>\n",
       "  <tbody>\n",
       "    <tr>\n",
       "      <th>12669</th>\n",
       "      <td>german and sioux indian ancestry</td>\n",
       "      <td>1</td>\n",
       "    </tr>\n",
       "    <tr>\n",
       "      <th>15164</th>\n",
       "      <td>wang mang still refused to let her visit the c...</td>\n",
       "      <td>1</td>\n",
       "    </tr>\n",
       "    <tr>\n",
       "      <th>3599</th>\n",
       "      <td>yaarlam ajith sir a thavara vera yaaralayum i...</td>\n",
       "      <td>3</td>\n",
       "    </tr>\n",
       "    <tr>\n",
       "      <th>22331</th>\n",
       "      <td>unfortunately hot springs can create ideal con...</td>\n",
       "      <td>1</td>\n",
       "    </tr>\n",
       "    <tr>\n",
       "      <th>7956</th>\n",
       "      <td>flop kaluda rajakumaran ee padam hit agum pis...</td>\n",
       "      <td>4</td>\n",
       "    </tr>\n",
       "    <tr>\n",
       "      <th>...</th>\n",
       "      <td>...</td>\n",
       "      <td>...</td>\n",
       "    </tr>\n",
       "    <tr>\n",
       "      <th>14794</th>\n",
       "      <td>singa thalaivaa recordukal ini rajaku swontha...</td>\n",
       "      <td>4</td>\n",
       "    </tr>\n",
       "    <tr>\n",
       "      <th>11094</th>\n",
       "      <td>a new constitution was adopted in july 1994</td>\n",
       "      <td>1</td>\n",
       "    </tr>\n",
       "    <tr>\n",
       "      <th>12682</th>\n",
       "      <td>na main naee hoon</td>\n",
       "      <td>2</td>\n",
       "    </tr>\n",
       "    <tr>\n",
       "      <th>3415</th>\n",
       "      <td>ethipo tamizhanmarum karnataka ap ellarum inda...</td>\n",
       "      <td>4</td>\n",
       "    </tr>\n",
       "    <tr>\n",
       "      <th>16010</th>\n",
       "      <td>nahin unake lie helping verb use kar leta hu</td>\n",
       "      <td>2</td>\n",
       "    </tr>\n",
       "  </tbody>\n",
       "</table>\n",
       "<p>4553 rows × 2 columns</p>\n",
       "</div>"
      ],
      "text/plain": [
       "                                                    text  lang\n",
       "12669                   german and sioux indian ancestry     1\n",
       "15164  wang mang still refused to let her visit the c...     1\n",
       "3599    yaarlam ajith sir a thavara vera yaaralayum i...     3\n",
       "22331  unfortunately hot springs can create ideal con...     1\n",
       "7956    flop kaluda rajakumaran ee padam hit agum pis...     4\n",
       "...                                                  ...   ...\n",
       "14794   singa thalaivaa recordukal ini rajaku swontha...     4\n",
       "11094       a new constitution was adopted in july 1994      1\n",
       "12682                                  na main naee hoon     2\n",
       "3415   ethipo tamizhanmarum karnataka ap ellarum inda...     4\n",
       "16010       nahin unake lie helping verb use kar leta hu     2\n",
       "\n",
       "[4553 rows x 2 columns]"
      ]
     },
     "execution_count": 351,
     "metadata": {},
     "output_type": "execute_result"
    }
   ],
   "source": [
    "valid"
   ]
  },
  {
   "cell_type": "code",
   "execution_count": 353,
   "id": "mighty-calculation",
   "metadata": {},
   "outputs": [],
   "source": [
    "train.to_csv('train.csv')\n",
    "valid.to_csv('valid.csv')"
   ]
  },
  {
   "cell_type": "code",
   "execution_count": 387,
   "id": "serial-argentina",
   "metadata": {},
   "outputs": [],
   "source": [
    "\n",
    "def make_vocab(count, min_freq=3, max_vocab=60000, special_toks=None):\n",
    "    \"Create a vocab of `max_vocab` size from `Counter` `count` with items present more than `min_freq`\"\n",
    "    vocab = [o for o,c in count.most_common(max_vocab) if c >= min_freq]\n",
    "    special_toks = ifnone(special_toks, 'n')\n",
    "    for o in reversed(special_toks): #Make sure all special tokens are in the vocab\n",
    "        if o in vocab: vocab.remove(o)\n",
    "        vocab.insert(0, o)\n",
    "    vocab = vocab[:max_vocab]\n",
    "    return vocab + [f'xxfake' for i in range(0, 8-len(vocab)%8)]\n",
    "def ifnone(a,b):\n",
    "    \"`a` if `a` is not None, otherwise `b`.\"\n",
    "    return b if a is None else a"
   ]
  },
  {
   "cell_type": "code",
   "execution_count": 397,
   "id": "changing-plant",
   "metadata": {},
   "outputs": [],
   "source": [
    "vocab = list()\n",
    "for i in list(df.text.values):\n",
    "    tmp = []\n",
    "    for j in i.split(' '):\n",
    "        if len(j)> 0:\n",
    "            tmp.append(j)\n",
    "    vocab.append(tmp)"
   ]
  },
  {
   "cell_type": "code",
   "execution_count": 398,
   "id": "direct-drinking",
   "metadata": {},
   "outputs": [],
   "source": [
    "import pickle\n",
    "with open('vocab.pkl', 'wb') as f:\n",
    "    pickle.dump(vocab, f)"
   ]
  },
  {
   "cell_type": "code",
   "execution_count": 399,
   "id": "cellular-drawing",
   "metadata": {},
   "outputs": [
    {
     "data": {
      "text/plain": [
       "['lalletan', 'fans', 'ellarum', 'like', 'adich', 'power', 'kanikke']"
      ]
     },
     "execution_count": 399,
     "metadata": {},
     "output_type": "execute_result"
    }
   ],
   "source": [
    "vocab[3]"
   ]
  },
  {
   "cell_type": "code",
   "execution_count": 401,
   "id": "practical-wagner",
   "metadata": {},
   "outputs": [],
   "source": []
  },
  {
   "cell_type": "code",
   "execution_count": null,
   "id": "upset-stevens",
   "metadata": {},
   "outputs": [],
   "source": [
    "train['is_valid'] = 0\n",
    "valid['is_valid'] = 1\n",
    "train.appe\n",
    "df.to_csv('total.csv')"
   ]
  }
 ],
 "metadata": {
  "kernelspec": {
   "display_name": "Python 3",
   "language": "python",
   "name": "python3"
  },
  "language_info": {
   "codemirror_mode": {
    "name": "ipython",
    "version": 3
   },
   "file_extension": ".py",
   "mimetype": "text/x-python",
   "name": "python",
   "nbconvert_exporter": "python",
   "pygments_lexer": "ipython3",
   "version": "3.9.2"
  }
 },
 "nbformat": 4,
 "nbformat_minor": 5
}
